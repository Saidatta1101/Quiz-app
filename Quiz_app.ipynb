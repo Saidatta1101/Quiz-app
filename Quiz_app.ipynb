{
  "nbformat": 4,
  "nbformat_minor": 0,
  "metadata": {
    "colab": {
      "provenance": [],
      "authorship_tag": "ABX9TyMH13fTqoNUSjgTkYo1GQ5W",
      "include_colab_link": true
    },
    "kernelspec": {
      "name": "python3",
      "display_name": "Python 3"
    },
    "language_info": {
      "name": "python"
    }
  },
  "cells": [
    {
      "cell_type": "markdown",
      "metadata": {
        "id": "view-in-github",
        "colab_type": "text"
      },
      "source": [
        "<a href=\"https://colab.research.google.com/github/Saidatta1101/Quiz-app/blob/main/Quiz_app.ipynb\" target=\"_parent\"><img src=\"https://colab.research.google.com/assets/colab-badge.svg\" alt=\"Open In Colab\"/></a>"
      ]
    },
    {
      "cell_type": "code",
      "execution_count": 1,
      "metadata": {
        "colab": {
          "base_uri": "https://localhost:8080/"
        },
        "id": "X5ZB7ed1Cs-b",
        "outputId": "00bc0e24-14d1-4788-9612-882a7253e3c1"
      },
      "outputs": [
        {
          "output_type": "stream",
          "name": "stdout",
          "text": [
            "===== Welcome to the Python Quiz App! =====\n",
            "\n",
            "Q1: What is the capital of France?\n",
            "A. Berlin\n",
            "B. Paris\n",
            "C. Madrid\n",
            "D. Rome\n",
            "Your answer (A/B/C/D): B\n",
            "✅ Correct!\n",
            "\n",
            "Q2: Which language is used for web development?\n",
            "A. Python\n",
            "B. Java\n",
            "C. HTML\n",
            "D. C++\n",
            "Your answer (A/B/C/D): B\n",
            "❌ Wrong! The correct answer was C.\n",
            "\n",
            "Q3: What is the output of: 3 * 1 ** 3?\n",
            "A. 27\n",
            "B. 9\n",
            "C. 3\n",
            "D. 1\n",
            "Your answer (A/B/C/D): C\n",
            "✅ Correct!\n",
            "\n",
            "Q4: Which company developed the Python language?\n",
            "A. Microsoft\n",
            "B. Google\n",
            "C. Facebook\n",
            "D. Python Software Foundation\n",
            "Your answer (A/B/C/D): D\n",
            "✅ Correct!\n",
            "\n",
            "🎯 Your final score: 3/4\n",
            "👍 Good job! But you can do even better.\n"
          ]
        }
      ],
      "source": [
        "# quiz_app.py\n",
        "\n",
        "quiz_questions = [\n",
        "    {\n",
        "        \"question\": \"What is the capital of France?\",\n",
        "        \"options\": [\"A. Berlin\", \"B. Paris\", \"C. Madrid\", \"D. Rome\"],\n",
        "        \"answer\": \"B\"\n",
        "    },\n",
        "    {\n",
        "        \"question\": \"Which language is used for web development?\",\n",
        "        \"options\": [\"A. Python\", \"B. Java\", \"C. HTML\", \"D. C++\"],\n",
        "        \"answer\": \"C\"\n",
        "    },\n",
        "    {\n",
        "        \"question\": \"What is the output of: 3 * 1 ** 3?\",\n",
        "        \"options\": [\"A. 27\", \"B. 9\", \"C. 3\", \"D. 1\"],\n",
        "        \"answer\": \"C\"\n",
        "    },\n",
        "    {\n",
        "        \"question\": \"Which company developed the Python language?\",\n",
        "        \"options\": [\"A. Microsoft\", \"B. Google\", \"C. Facebook\", \"D. Python Software Foundation\"],\n",
        "        \"answer\": \"D\"\n",
        "    }\n",
        "]\n",
        "\n",
        "def run_quiz():\n",
        "    score = 0\n",
        "    print(\"===== Welcome to the Python Quiz App! =====\\n\")\n",
        "\n",
        "    for index, q in enumerate(quiz_questions):\n",
        "        print(f\"Q{index + 1}: {q['question']}\")\n",
        "        for option in q[\"options\"]:\n",
        "            print(option)\n",
        "        answer = input(\"Your answer (A/B/C/D): \").strip().upper()\n",
        "\n",
        "        if answer == q[\"answer\"]:\n",
        "            print(\"✅ Correct!\\n\")\n",
        "            score += 1\n",
        "        else:\n",
        "            print(f\"❌ Wrong! The correct answer was {q['answer']}.\\n\")\n",
        "\n",
        "    print(f\"🎯 Your final score: {score}/{len(quiz_questions)}\")\n",
        "    if score == len(quiz_questions):\n",
        "        print(\"🏆 Excellent! You got all answers right!\")\n",
        "    elif score >= len(quiz_questions) // 2:\n",
        "        print(\"👍 Good job! But you can do even better.\")\n",
        "    else:\n",
        "        print(\"📘 Keep practicing!\")\n",
        "\n",
        "if __name__ == \"__main__\":\n",
        "    run_quiz()"
      ]
    }
  ]
}